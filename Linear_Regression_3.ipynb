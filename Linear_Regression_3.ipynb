{
  "nbformat": 4,
  "nbformat_minor": 0,
  "metadata": {
    "colab": {
      "name": "Linear Regression 3.ipynb",
      "provenance": [],
      "authorship_tag": "ABX9TyO1jBoMmbricfTBQT1UYM2r",
      "include_colab_link": true
    },
    "kernelspec": {
      "name": "python3",
      "display_name": "Python 3"
    }
  },
  "cells": [
    {
      "cell_type": "markdown",
      "metadata": {
        "id": "view-in-github",
        "colab_type": "text"
      },
      "source": [
        "<a href=\"https://colab.research.google.com/github/kimalaacer/PyTorch-for-Deep-Learning-and-Computer-Vision/blob/master/Linear_Regression_3.ipynb\" target=\"_parent\"><img src=\"https://colab.research.google.com/assets/colab-badge.svg\" alt=\"Open In Colab\"/></a>"
      ]
    },
    {
      "cell_type": "code",
      "metadata": {
        "id": "kDtx7aYS8Bvx",
        "colab_type": "code",
        "colab": {}
      },
      "source": [
        "import torch\n",
        "import torch.nn as nn\n",
        "import matplotlib.pyplot as plt\n",
        "import numpy as np"
      ],
      "execution_count": 0,
      "outputs": []
    },
    {
      "cell_type": "code",
      "metadata": {
        "id": "d_QpxauJ8hSx",
        "colab_type": "code",
        "colab": {
          "base_uri": "https://localhost:8080/",
          "height": 282
        },
        "outputId": "0cb98807-1aa6-4c51-c451-2a2f00c198e6"
      },
      "source": [
        "x = torch.randn(100,1)*10\n",
        "y= x\n",
        "plt.plot(x, y, 'o')"
      ],
      "execution_count": 2,
      "outputs": [
        {
          "output_type": "execute_result",
          "data": {
            "text/plain": [
              "[<matplotlib.lines.Line2D at 0x7f327e389cc0>]"
            ]
          },
          "metadata": {
            "tags": []
          },
          "execution_count": 2
        },
        {
          "output_type": "display_data",
          "data": {
            "image/png": "[encoded data removed]",
            "text/plain": [
              "<Figure size 432x288 with 1 Axes>"
            ]
          },
          "metadata": {
            "tags": []
          }
        }
      ]
    },
    {
      "cell_type": "markdown",
      "metadata": {
        "id": "yxkw5AUe9UHZ",
        "colab_type": "text"
      },
      "source": [
        "we need to add noise "
      ]
    },
    {
      "cell_type": "code",
      "metadata": {
        "id": "paspZztq9ZFx",
        "colab_type": "code",
        "colab": {}
      },
      "source": [
        "y= x + torch.randn(100, 1)*3"
      ],
      "execution_count": 0,
      "outputs": []
    },
    {
      "cell_type": "code",
      "metadata": {
        "id": "ZgsNjTPO9k_h",
        "colab_type": "code",
        "colab": {
          "base_uri": "https://localhost:8080/",
          "height": 282
        },
        "outputId": "687a9e5f-e899-4ccb-d159-c5586672ff1c"
      },
      "source": [
        "plt.plot(x, y, 'o')"
      ],
      "execution_count": 4,
      "outputs": [
        {
          "output_type": "execute_result",
          "data": {
            "text/plain": [
              "[<matplotlib.lines.Line2D at 0x7f327de5c710>]"
            ]
          },
          "metadata": {
            "tags": []
          },
          "execution_count": 4
        },
        {
          "output_type": "display_data",
          "data": {
            "image/png": "[encoded data removed]",
            "text/plain": [
              "<Figure size 432x288 with 1 Axes>"
            ]
          },
          "metadata": {
            "tags": []
          }
        }
      ]
    },
    {
      "cell_type": "markdown",
      "metadata": {
        "id": "UTcgO95Z9vMA",
        "colab_type": "text"
      },
      "source": [
        "to prevent errors, it is better to transform to numpy from tensor befroe plotting.\n"
      ]
    },
    {
      "cell_type": "code",
      "metadata": {
        "id": "oGleFzim9r0L",
        "colab_type": "code",
        "colab": {
          "base_uri": "https://localhost:8080/",
          "height": 296
        },
        "outputId": "7ad753ba-cf35-4f1c-db44-a8f5a9e95c32"
      },
      "source": [
        "plt.plot(x.numpy(), y.numpy(), 'o')\n",
        "plt.xlabel('x')\n",
        "plt.ylabel('y')"
      ],
      "execution_count": 5,
      "outputs": [
        {
          "output_type": "execute_result",
          "data": {
            "text/plain": [
              "Text(0, 0.5, 'y')"
            ]
          },
          "metadata": {
            "tags": []
          },
          "execution_count": 5
        },
        {
          "output_type": "display_data",
          "data": {
            "image/png": "[encoded data removed]",
            "text/plain": [
              "<Figure size 432x288 with 1 Axes>"
            ]
          },
          "metadata": {
            "tags": []
          }
        }
      ]
    },
    {
      "cell_type": "code",
      "metadata": {
        "id": "VcMGn1dZ8MV3",
        "colab_type": "code",
        "colab": {}
      },
      "source": [
        "class LR(nn.Module):\n",
        "  def __init__(self, input_size, output_size):\n",
        "    super().__init__()\n",
        " # we use super to inherit from class\n",
        "    self.linear = nn.Linear(input_size, output_size)\n",
        "  def forward(self, x):\n",
        "    pred = self.linear(x)\n",
        "    return pred"
      ],
      "execution_count": 0,
      "outputs": []
    },
    {
      "cell_type": "code",
      "metadata": {
        "id": "8pfdbaar8Tmv",
        "colab_type": "code",
        "colab": {}
      },
      "source": [
        "torch.manual_seed(1)\n",
        "model = LR(1,1)"
      ],
      "execution_count": 0,
      "outputs": []
    },
    {
      "cell_type": "code",
      "metadata": {
        "id": "sZG8ezlk8WbP",
        "colab_type": "code",
        "colab": {}
      },
      "source": [
        "[w, b] = model.parameters()"
      ],
      "execution_count": 0,
      "outputs": []
    },
    {
      "cell_type": "code",
      "metadata": {
        "id": "u6xyL7Sz8Zkw",
        "colab_type": "code",
        "colab": {
          "base_uri": "https://localhost:8080/",
          "height": 68
        },
        "outputId": "0989738a-ed38-4bea-dbaf-3d984a1e4681"
      },
      "source": [
        "print(w, b)"
      ],
      "execution_count": 9,
      "outputs": [
        {
          "output_type": "stream",
          "text": [
            "Parameter containing:\n",
            "tensor([[0.5153]], requires_grad=True) Parameter containing:\n",
            "tensor([-0.4414], requires_grad=True)\n"
          ],
          "name": "stdout"
        }
      ]
    },
    {
      "cell_type": "markdown",
      "metadata": {
        "id": "EoOfD5J6-_ax",
        "colab_type": "text"
      },
      "source": [
        "in first tensor, notice the double brackets for 2-d\n"
      ]
    },
    {
      "cell_type": "code",
      "metadata": {
        "id": "ptVrl4UF_Fhh",
        "colab_type": "code",
        "colab": {
          "base_uri": "https://localhost:8080/",
          "height": 34
        },
        "outputId": "fa07e376-0f90-44f1-fe65-d6eeb0c0cd83"
      },
      "source": [
        "w1 = w[0][0]\n",
        "b1 = b[0]\n",
        "print(w1, b1)"
      ],
      "execution_count": 10,
      "outputs": [
        {
          "output_type": "stream",
          "text": [
            "tensor(0.5153, grad_fn=<SelectBackward>) tensor(-0.4414, grad_fn=<SelectBackward>)\n"
          ],
          "name": "stdout"
        }
      ]
    },
    {
      "cell_type": "markdown",
      "metadata": {
        "id": "4u5dzq8l_TEx",
        "colab_type": "text"
      },
      "source": [
        "if we use the .item we can obtain the python number.\n"
      ]
    },
    {
      "cell_type": "code",
      "metadata": {
        "id": "dbOuZpPn_fEy",
        "colab_type": "code",
        "colab": {}
      },
      "source": [
        "def get_params():\n",
        "  return (w[0][0].item(), b[0].item())\n"
      ],
      "execution_count": 0,
      "outputs": []
    },
    {
      "cell_type": "code",
      "metadata": {
        "id": "DNKxpzrz_614",
        "colab_type": "code",
        "colab": {}
      },
      "source": [
        "def plot_fit(title):\n",
        "  plt.title = title\n",
        "  w1, b1 = get_params()\n",
        "  x1 = np.array([-30, 30])\n",
        "  y1= w1 * x1 + b1\n",
        "  plt.plot(x1, y1, 'r')\n",
        "  plt.scatter(x, y)"
      ],
      "execution_count": 0,
      "outputs": []
    },
    {
      "cell_type": "code",
      "metadata": {
        "id": "0BWbZRdQe9fN",
        "colab_type": "code",
        "colab": {}
      },
      "source": [
        "plt.show()"
      ],
      "execution_count": 0,
      "outputs": []
    },
    {
      "cell_type": "code",
      "metadata": {
        "id": "LlX25q0AfHeH",
        "colab_type": "code",
        "colab": {
          "base_uri": "https://localhost:8080/",
          "height": 265
        },
        "outputId": "268c30ca-aec9-407c-a59a-de7f09b3aa42"
      },
      "source": [
        "plot_fit('initial model')"
      ],
      "execution_count": 14,
      "outputs": [
        {
          "output_type": "display_data",
          "data": {
            "image/png": "[encoded data removed]",
            "text/plain": [
              "<Figure size 432x288 with 1 Axes>"
            ]
          },
          "metadata": {
            "tags": []
          }
        }
      ]
    },
    {
      "cell_type": "markdown",
      "metadata": {
        "id": "egzpV4EKfRXA",
        "colab_type": "text"
      },
      "source": [
        "the line does not exactly represent the dots, so we need to use gradient descent to make it align better. \n"
      ]
    },
    {
      "cell_type": "markdown",
      "metadata": {
        "id": "_NUJgLMMnI04",
        "colab_type": "text"
      },
      "source": [
        "we need to minimize the loss function\n",
        "we can access the loss function built-in pytorch by nn.MSEloss"
      ]
    },
    {
      "cell_type": "code",
      "metadata": {
        "id": "vB5fQjjLnMeh",
        "colab_type": "code",
        "colab": {}
      },
      "source": [
        "criterion = nn.MSELoss()\n",
        "optimizer = torch.optim.SGD(model.parameters(), lr = 0.01)"
      ],
      "execution_count": 0,
      "outputs": []
    },
    {
      "cell_type": "code",
      "metadata": {
        "id": "imF6V8dIoVal",
        "colab_type": "code",
        "colab": {
          "base_uri": "https://localhost:8080/",
          "height": 1000
        },
        "outputId": "c2b73f3d-ca0e-4db9-ed69-ca1ef62d8488"
      },
      "source": [
        "epochs = 100\n",
        "losses = []\n",
        "for i in range(epochs):\n",
        "  y_pred = model.forward(x)\n",
        "  loss = criterion(y_pred, y)\n",
        "  print(\"epoch:\", i, \"loss:\", loss.item())\n",
        "  losses.append(loss)\n",
        "  optimizer.zero_grad()\n",
        "  loss.backward()\n",
        "  optimizer.step()\n",
        "\n"
      ],
      "execution_count": 16,
      "outputs": [
        {
          "output_type": "stream",
          "text": [
            "epoch: 0 loss: 34.698341369628906\n",
            "epoch: 1 loss: 32.80893325805664\n",
            "epoch: 2 loss: 31.06729507446289\n",
            "epoch: 3 loss: 29.461772918701172\n",
            "epoch: 4 loss: 27.981647491455078\n",
            "epoch: 5 loss: 26.617046356201172\n",
            "epoch: 6 loss: 25.3588809967041\n",
            "epoch: 7 loss: 24.198768615722656\n",
            "epoch: 8 loss: 23.1290340423584\n",
            "epoch: 9 loss: 22.142568588256836\n",
            "epoch: 10 loss: 21.232826232910156\n",
            "epoch: 11 loss: 20.393781661987305\n",
            "epoch: 12 loss: 19.619884490966797\n",
            "epoch: 13 loss: 18.90602684020996\n",
            "epoch: 14 loss: 18.247507095336914\n",
            "epoch: 15 loss: 17.639978408813477\n",
            "epoch: 16 loss: 17.079442977905273\n",
            "epoch: 17 loss: 16.562227249145508\n",
            "epoch: 18 loss: 16.08493995666504\n",
            "epoch: 19 loss: 15.644453048706055\n",
            "epoch: 20 loss: 15.237903594970703\n",
            "epoch: 21 loss: 14.862624168395996\n",
            "epoch: 22 loss: 14.516170501708984\n",
            "epoch: 23 loss: 14.19630241394043\n",
            "epoch: 24 loss: 13.9009428024292\n",
            "epoch: 25 loss: 13.628190040588379\n",
            "epoch: 26 loss: 13.376274108886719\n",
            "epoch: 27 loss: 13.143577575683594\n",
            "epoch: 28 loss: 12.92860221862793\n",
            "epoch: 29 loss: 12.729970932006836\n",
            "epoch: 30 loss: 12.54642105102539\n",
            "epoch: 31 loss: 12.3767728805542\n",
            "epoch: 32 loss: 12.219958305358887\n",
            "epoch: 33 loss: 12.074982643127441\n",
            "epoch: 34 loss: 11.940926551818848\n",
            "epoch: 35 loss: 11.816947937011719\n",
            "epoch: 36 loss: 11.702269554138184\n",
            "epoch: 37 loss: 11.596173286437988\n",
            "epoch: 38 loss: 11.498000144958496\n",
            "epoch: 39 loss: 11.40713882446289\n",
            "epoch: 40 loss: 11.323025703430176\n",
            "epoch: 41 loss: 11.245147705078125\n",
            "epoch: 42 loss: 11.173025131225586\n",
            "epoch: 43 loss: 11.106220245361328\n",
            "epoch: 44 loss: 11.044321060180664\n",
            "epoch: 45 loss: 10.986959457397461\n",
            "epoch: 46 loss: 10.933785438537598\n",
            "epoch: 47 loss: 10.884485244750977\n",
            "epoch: 48 loss: 10.838761329650879\n",
            "epoch: 49 loss: 10.796342849731445\n",
            "epoch: 50 loss: 10.756979942321777\n",
            "epoch: 51 loss: 10.720447540283203\n",
            "epoch: 52 loss: 10.68652629852295\n",
            "epoch: 53 loss: 10.655023574829102\n",
            "epoch: 54 loss: 10.625751495361328\n",
            "epoch: 55 loss: 10.598550796508789\n",
            "epoch: 56 loss: 10.573265075683594\n",
            "epoch: 57 loss: 10.549753189086914\n",
            "epoch: 58 loss: 10.527874946594238\n",
            "epoch: 59 loss: 10.507518768310547\n",
            "epoch: 60 loss: 10.488568305969238\n",
            "epoch: 61 loss: 10.470922470092773\n",
            "epoch: 62 loss: 10.454482078552246\n",
            "epoch: 63 loss: 10.43916130065918\n",
            "epoch: 64 loss: 10.424877166748047\n",
            "epoch: 65 loss: 10.411552429199219\n",
            "epoch: 66 loss: 10.399121284484863\n",
            "epoch: 67 loss: 10.387520790100098\n",
            "epoch: 68 loss: 10.376683235168457\n",
            "epoch: 69 loss: 10.366559982299805\n",
            "epoch: 70 loss: 10.357099533081055\n",
            "epoch: 71 loss: 10.348254203796387\n",
            "epoch: 72 loss: 10.33997917175293\n",
            "epoch: 73 loss: 10.332236289978027\n",
            "epoch: 74 loss: 10.324984550476074\n",
            "epoch: 75 loss: 10.318193435668945\n",
            "epoch: 76 loss: 10.311829566955566\n",
            "epoch: 77 loss: 10.305863380432129\n",
            "epoch: 78 loss: 10.300265312194824\n",
            "epoch: 79 loss: 10.295010566711426\n",
            "epoch: 80 loss: 10.290081024169922\n",
            "epoch: 81 loss: 10.28544807434082\n",
            "epoch: 82 loss: 10.281094551086426\n",
            "epoch: 83 loss: 10.277000427246094\n",
            "epoch: 84 loss: 10.273150444030762\n",
            "epoch: 85 loss: 10.269525527954102\n",
            "epoch: 86 loss: 10.26611328125\n",
            "epoch: 87 loss: 10.262900352478027\n",
            "epoch: 88 loss: 10.259869575500488\n",
            "epoch: 89 loss: 10.257013320922852\n",
            "epoch: 90 loss: 10.254319190979004\n",
            "epoch: 91 loss: 10.251773834228516\n",
            "epoch: 92 loss: 10.249373435974121\n",
            "epoch: 93 loss: 10.247103691101074\n",
            "epoch: 94 loss: 10.244959831237793\n",
            "epoch: 95 loss: 10.242931365966797\n",
            "epoch: 96 loss: 10.241013526916504\n",
            "epoch: 97 loss: 10.239197731018066\n",
            "epoch: 98 loss: 10.23747730255127\n",
            "epoch: 99 loss: 10.235851287841797\n"
          ],
          "name": "stdout"
        }
      ]
    },
    {
      "cell_type": "code",
      "metadata": {
        "id": "u5Hmr3leq7Db",
        "colab_type": "code",
        "colab": {
          "base_uri": "https://localhost:8080/",
          "height": 296
        },
        "outputId": "51a0495c-a103-43bf-8654-1bfad0434055"
      },
      "source": [
        "plt.plot(range(epochs), losses)\n",
        "plt.ylabel('Loss')\n",
        "plt.xlabel('Epoch')\n"
      ],
      "execution_count": 17,
      "outputs": [
        {
          "output_type": "execute_result",
          "data": {
            "text/plain": [
              "Text(0.5, 0, 'Epoch')"
            ]
          },
          "metadata": {
            "tags": []
          },
          "execution_count": 17
        },
        {
          "output_type": "display_data",
          "data": {
            "image/png": "[encoded data removed]",
            "text/plain": [
              "<Figure size 432x288 with 1 Axes>"
            ]
          },
          "metadata": {
            "tags": []
          }
        }
      ]
    },
    {
      "cell_type": "code",
      "metadata": {
        "id": "6hLzosmwr0Py",
        "colab_type": "code",
        "colab": {
          "base_uri": "https://localhost:8080/",
          "height": 265
        },
        "outputId": "d7347c7d-7cde-4efd-d856-ee63809ecf83"
      },
      "source": [
        "plot_fit(\"Trained Model\")"
      ],
      "execution_count": 18,
      "outputs": [
        {
          "output_type": "display_data",
          "data": {
            "image/png": "[encoded data removed]",
            "text/plain": [
              "<Figure size 432x288 with 1 Axes>"
            ]
          },
          "metadata": {
            "tags": []
          }
        }
      ]
    },
    {
      "cell_type": "code",
      "metadata": {
        "id": "OlhduqBWst7i",
        "colab_type": "code",
        "colab": {}
      },
      "source": [
        ""
      ],
      "execution_count": 0,
      "outputs": []
    }
  ]
}